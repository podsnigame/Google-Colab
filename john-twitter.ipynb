{
 "cells": [
  {
   "cell_type": "code",
   "execution_count": 1,
   "metadata": {},
   "outputs": [],
   "source": [
    "from transformers import pipeline\n",
    "from transformers import AutoTokenizer, AutoModelForSequenceClassification\n",
    "\n",
    "pretrained= \"mdhugol/indonesia-bert-sentiment-classification\"\n",
    "model = AutoModelForSequenceClassification.from_pretrained(pretrained)\n",
    "tokenizer = AutoTokenizer.from_pretrained(pretrained)\n",
    "\n",
    "sentiment_analysis = pipeline(\"sentiment-analysis\", model=model, tokenizer=tokenizer)"
   ]
  },
  {
   "cell_type": "code",
   "execution_count": 7,
   "metadata": {},
   "outputs": [
    {
     "name": "stdout",
     "output_type": "stream",
     "text": [
      "Sentence: Aku punya mainan namanya lato-lato | Label : neutral (98.425%)\n"
     ]
    }
   ],
   "source": [
    "label_index = {'LABEL_0': 'positive', 'LABEL_1': 'neutral', 'LABEL_2': 'negative'}\n",
    "\n",
    "sentence = \"Aku punya mainan namanya lato-lato\"\n",
    "\n",
    "result = sentiment_analysis(sentence)\n",
    "status = label_index[result[0]['label']]\n",
    "score = result[0]['score']\n",
    "print(f'Sentence: {sentence} | Label : {status} ({score * 100:.3f}%)')"
   ]
  },
  {
   "cell_type": "code",
   "execution_count": 5,
   "metadata": {},
   "outputs": [
    {
     "name": "stdout",
     "output_type": "stream",
     "text": [
      "Total tweets: 923\n"
     ]
    }
   ],
   "source": [
    "import pandas as pd\n",
    "\n",
    "def convert_dtype(x):\n",
    "    if not x:\n",
    "        return ''\n",
    "    try:\n",
    "        return str(x)   \n",
    "    except:        \n",
    "        return ''\n",
    "\n",
    "tweets_data = pd.read_csv('data/jhon.csv', sep='\\t', converters={'thumbnail': convert_dtype, 'near': convert_dtype})\n",
    "\n",
    "# filter each tweet and only use the tweet that has conversation_id = 1616059242561310720 or 1616482637006376960\n",
    "tweets_data = tweets_data[(tweets_data['conversation_id'] == 1616059242561310720) | (tweets_data['conversation_id'] == 1616482637006376960)]\n",
    "\n",
    "# save the result to csv file with name 'data/jhon_conversation.csv'\n",
    "tweets_data.to_csv('data/jhon_conversation.csv', index=False)\n",
    "\n",
    "# create a script to check the sentiment of each tweet, then save the result to result variable\n",
    "result = sentiment_analysis(tweets_data['tweet'].tolist())\n",
    "\n",
    "# show the total number of tweets\n",
    "print(f'Total tweets: {len(result)}')"
   ]
  },
  {
   "cell_type": "code",
   "execution_count": 6,
   "metadata": {},
   "outputs": [
    {
     "data": {
      "text/html": [
       "<style type=\"text/css\">\n",
       "</style>\n",
       "<table id=\"T_f8b5b\">\n",
       "  <thead>\n",
       "    <tr>\n",
       "      <th class=\"blank level0\" >&nbsp;</th>\n",
       "      <th id=\"T_f8b5b_level0_col0\" class=\"col_heading level0 col0\" >sentiment</th>\n",
       "      <th id=\"T_f8b5b_level0_col1\" class=\"col_heading level0 col1\" >percentage</th>\n",
       "    </tr>\n",
       "  </thead>\n",
       "  <tbody>\n",
       "    <tr>\n",
       "      <th id=\"T_f8b5b_level0_row0\" class=\"row_heading level0 row0\" >negative</th>\n",
       "      <td id=\"T_f8b5b_row0_col0\" class=\"data row0 col0\" >446</td>\n",
       "      <td id=\"T_f8b5b_row0_col1\" class=\"data row0 col1\" >48.32%</td>\n",
       "    </tr>\n",
       "    <tr>\n",
       "      <th id=\"T_f8b5b_level0_row1\" class=\"row_heading level0 row1\" >neutral</th>\n",
       "      <td id=\"T_f8b5b_row1_col0\" class=\"data row1 col0\" >399</td>\n",
       "      <td id=\"T_f8b5b_row1_col1\" class=\"data row1 col1\" >43.23%</td>\n",
       "    </tr>\n",
       "    <tr>\n",
       "      <th id=\"T_f8b5b_level0_row2\" class=\"row_heading level0 row2\" >positive</th>\n",
       "      <td id=\"T_f8b5b_row2_col0\" class=\"data row2 col0\" >78</td>\n",
       "      <td id=\"T_f8b5b_row2_col1\" class=\"data row2 col1\" >8.45%</td>\n",
       "    </tr>\n",
       "  </tbody>\n",
       "</table>\n"
      ],
      "text/plain": [
       "<pandas.io.formats.style.Styler at 0x16c14b760>"
      ]
     },
     "execution_count": 6,
     "metadata": {},
     "output_type": "execute_result"
    }
   ],
   "source": [
    "# create a new column in the dataframe to store the sentiment result\n",
    "tweets_data['sentiment'] = [label_index[i['label']] for i in result]\n",
    "tweets_data['score'] = [i['score'] for i in result]\n",
    "\n",
    "# filter the dataframe to only the tweet, sentiment, and score columns\n",
    "tweets_data = tweets_data[['tweet', 'sentiment', 'score']]\n",
    "\n",
    "# save the result to csv file\n",
    "tweets_data.to_csv('data/jhon_sentiment.csv', index=False)\n",
    "\n",
    "# overall sentiment with score and percentage of each sentiment (concat with %)\n",
    "tweets_data['sentiment'].value_counts().to_frame().assign(\n",
    "    percentage = lambda x: (x['sentiment'] / x['sentiment'].sum()) * 100\n",
    ").style.format({'percentage': '{:.2f}%'})"
   ]
  },
  {
   "cell_type": "code",
   "execution_count": 7,
   "metadata": {},
   "outputs": [
    {
     "data": {
      "image/png": "[encoded data removed]",
      "text/plain": [
       "<Figure size 1000x500 with 1 Axes>"
      ]
     },
     "metadata": {},
     "output_type": "display_data"
    }
   ],
   "source": [
    "# Create a good report for the sentiment analysis\n",
    "\n",
    "import matplotlib.pyplot as plt\n",
    "import seaborn as sns\n",
    "\n",
    "# set the figure size\n",
    "plt.figure(figsize=(10, 5))\n",
    "\n",
    "# create a barplot\n",
    "sns.countplot(x='sentiment', data=tweets_data)\n",
    "\n",
    "# set the title\n",
    "plt.title('Sentiment Analysis')\n",
    "\n",
    "# set the x and y label\n",
    "plt.xlabel('Sentiment')\n",
    "plt.ylabel('Count')\n",
    "\n",
    "# show the plot\n",
    "plt.show()\n",
    "\n",
    "# negative\t446\t48.32%\n",
    "# neutral\t399\t43.23%\n",
    "# positive\t78\t8.45%"
   ]
  },
  {
   "cell_type": "code",
   "execution_count": 8,
   "metadata": {},
   "outputs": [
    {
     "name": "stdout",
     "output_type": "stream",
     "text": [
      "Top 10 positive tweets:\n"
     ]
    },
    {
     "data": {
      "text/html": [
       "<table border=\"1\" class=\"dataframe\">\n",
       "  <thead>\n",
       "    <tr style=\"text-align: right;\">\n",
       "      <th></th>\n",
       "      <th>tweet</th>\n",
       "    </tr>\n",
       "  </thead>\n",
       "  <tbody>\n",
       "    <tr>\n",
       "      <th>114810</th>\n",
       "      <td>@Askrlfess big no alias kaga makasih. karena di tempat kerjaku atasannya lebih baik. kerja sm bapak bapak expat selalu ada reward tiap bs achieved kerjaan dan tiap tahun ada event seru.</td>\n",
       "    </tr>\n",
       "    <tr>\n",
       "      <th>146692</th>\n",
       "      <td>@Askrlfess Pak John pizza enak sih</td>\n",
       "    </tr>\n",
       "    <tr>\n",
       "      <th>29368</th>\n",
       "      <td>@Askrlfess Wah seru seru</td>\n",
       "    </tr>\n",
       "    <tr>\n",
       "      <th>87833</th>\n",
       "      <td>@Askrlfess Yg bikin karyawan loyal bukan semata mata hanya dengan naik gaji kagetan aja kok, kalau kita kasih value ke mereka, visi misi dan bekal skill mereka akan kasih 100% ke kita. Dan budaya kekeluargaan dan profesional harus berjalan beriringan.</td>\n",
       "    </tr>\n",
       "    <tr>\n",
       "      <th>147053</th>\n",
       "      <td>@Askrlfess Big no. Bos gua lebih baik gilee</td>\n",
       "    </tr>\n",
       "    <tr>\n",
       "      <th>153390</th>\n",
       "      <td>@Askrlfess boss gw jg asik</td>\n",
       "    </tr>\n",
       "    <tr>\n",
       "      <th>82224</th>\n",
       "      <td>@Askrlfess Wkwkwkwk no thanks, alhamdulillah dapat tmpt kerja dan boss yg baek bgt, dibandingkan yg sebelumnya haha 😆...</td>\n",
       "    </tr>\n",
       "    <tr>\n",
       "      <th>121214</th>\n",
       "      <td>@Askrlfess Cita2nya cetek bener nder</td>\n",
       "    </tr>\n",
       "    <tr>\n",
       "      <th>59140</th>\n",
       "      <td>@Askrlfess to be fair gasuka asas kekeluargaan dalam dunia kerja wkwk ga di anggap keluarga juga ga masalah yg penting kerjaan kelar.</td>\n",
       "    </tr>\n",
       "    <tr>\n",
       "      <th>79445</th>\n",
       "      <td>@Askrlfess 2019 nganggur, 2023 si jhon lbf punya 6 perusahan. Keren bet sih, gabisa ditiru</td>\n",
       "    </tr>\n",
       "  </tbody>\n",
       "</table>"
      ],
      "text/plain": [
       "<IPython.core.display.HTML object>"
      ]
     },
     "metadata": {},
     "output_type": "display_data"
    },
    {
     "name": "stdout",
     "output_type": "stream",
     "text": [
      "\n",
      "Top 10 neutral tweets:\n"
     ]
    },
    {
     "data": {
      "text/html": [
       "<table border=\"1\" class=\"dataframe\">\n",
       "  <thead>\n",
       "    <tr style=\"text-align: right;\">\n",
       "      <th></th>\n",
       "      <th>tweet</th>\n",
       "    </tr>\n",
       "  </thead>\n",
       "  <tbody>\n",
       "    <tr>\n",
       "      <th>53460</th>\n",
       "      <td>@Askrlfess lagi di pantau ppatk</td>\n",
       "    </tr>\n",
       "    <tr>\n",
       "      <th>105873</th>\n",
       "      <td>@Askrlfess persyaratan kerja fc ijazah cv sama ss akun tiktok dia</td>\n",
       "    </tr>\n",
       "    <tr>\n",
       "      <th>157179</th>\n",
       "      <td>@Askrlfess Mau atasan hoodie aja</td>\n",
       "    </tr>\n",
       "    <tr>\n",
       "      <th>68754</th>\n",
       "      <td>@Askrlfess Sekilas wajahnya ada mirip²nya sama Pak RK</td>\n",
       "    </tr>\n",
       "    <tr>\n",
       "      <th>112997</th>\n",
       "      <td>@Askrlfess joko gaji km naik 200 rebu</td>\n",
       "    </tr>\n",
       "    <tr>\n",
       "      <th>100540</th>\n",
       "      <td>@Askrlfess Yang jual Netflix</td>\n",
       "    </tr>\n",
       "    <tr>\n",
       "      <th>143235</th>\n",
       "      <td>@Askrlfess saya mau jadi atasannya pak john aja nder</td>\n",
       "    </tr>\n",
       "    <tr>\n",
       "      <th>124220</th>\n",
       "      <td>@Askrlfess Atasan flanel aja dah</td>\n",
       "    </tr>\n",
       "    <tr>\n",
       "      <th>91803</th>\n",
       "      <td>@Askrlfess Info info @ForzaPSIS</td>\n",
       "    </tr>\n",
       "    <tr>\n",
       "      <th>133722</th>\n",
       "      <td>@Askrlfess Aku atasan flannel aja</td>\n",
       "    </tr>\n",
       "  </tbody>\n",
       "</table>"
      ],
      "text/plain": [
       "<IPython.core.display.HTML object>"
      ]
     },
     "metadata": {},
     "output_type": "display_data"
    },
    {
     "name": "stdout",
     "output_type": "stream",
     "text": [
      "\n",
      "Top 10 negative tweets:\n"
     ]
    },
    {
     "data": {
      "text/html": [
       "<table border=\"1\" class=\"dataframe\">\n",
       "  <thead>\n",
       "    <tr style=\"text-align: right;\">\n",
       "      <th></th>\n",
       "      <th>tweet</th>\n",
       "    </tr>\n",
       "  </thead>\n",
       "  <tbody>\n",
       "    <tr>\n",
       "      <th>114932</th>\n",
       "      <td>@Askrlfess Oh ternyata si konten mandi lumpur sma si ini sama2 bermasalah ternyata wkwk. Yg satu kreatifnya ketololan, yg satu tolol soal ketenagakerjaan</td>\n",
       "    </tr>\n",
       "    <tr>\n",
       "      <th>86966</th>\n",
       "      <td>@Askrlfess Kalian jugaa kayak mak mak komplek. NAJIS!</td>\n",
       "    </tr>\n",
       "    <tr>\n",
       "      <th>101472</th>\n",
       "      <td>@Askrlfess sok banget ini orang</td>\n",
       "    </tr>\n",
       "    <tr>\n",
       "      <th>87485</th>\n",
       "      <td>@Askrlfess Yg bnyk bacot di medsos model begini mah, biasa nya kenyataannya kebalikan nya... Dunia tipu2</td>\n",
       "    </tr>\n",
       "    <tr>\n",
       "      <th>56807</th>\n",
       "      <td>@Askrlfess Mukanya kek kontol, jahat bngt nih orang.</td>\n",
       "    </tr>\n",
       "    <tr>\n",
       "      <th>87829</th>\n",
       "      <td>@Askrlfess Najis ajgg</td>\n",
       "    </tr>\n",
       "    <tr>\n",
       "      <th>41494</th>\n",
       "      <td>@Askrlfess Tampangnya aja kayak bajingan gitu</td>\n",
       "    </tr>\n",
       "    <tr>\n",
       "      <th>39359</th>\n",
       "      <td>@Askrlfess Najis tai</td>\n",
       "    </tr>\n",
       "    <tr>\n",
       "      <th>97037</th>\n",
       "      <td>@Askrlfess Hancur sudah... Gw kaga pernah percaya dr awal liat dia video yg soal kantor adalah keluarga. Pale lu meleduk</td>\n",
       "    </tr>\n",
       "    <tr>\n",
       "      <th>86961</th>\n",
       "      <td>@Askrlfess Dari muka nya aja udah ketauan orang jahat</td>\n",
       "    </tr>\n",
       "  </tbody>\n",
       "</table>"
      ],
      "text/plain": [
       "<IPython.core.display.HTML object>"
      ]
     },
     "metadata": {},
     "output_type": "display_data"
    },
    {
     "name": "stdout",
     "output_type": "stream",
     "text": [
      "\n"
     ]
    }
   ],
   "source": [
    "# create report and use library to show top 10 negative, positive, neutral tweets (display column name)\n",
    "from IPython.display import display, HTML\n",
    "\n",
    "for sentiment in ['positive', 'neutral', 'negative']:\n",
    "    print(f'Top 10 {sentiment} tweets:')\n",
    "    display(HTML(tweets_data[tweets_data['sentiment'] == sentiment].sort_values('score', ascending=False)['tweet'].head(10).to_frame().to_html()))\n",
    "    print('')"
   ]
  }
 ],
 "metadata": {
  "kernelspec": {
   "display_name": "Python 3.10 (tensorflow)",
   "language": "python",
   "name": "tensorflow"
  },
  "language_info": {
   "codemirror_mode": {
    "name": "ipython",
    "version": 3
   },
   "file_extension": ".py",
   "mimetype": "text/x-python",
   "name": "python",
   "nbconvert_exporter": "python",
   "pygments_lexer": "ipython3",
   "version": "3.10.8 | packaged by conda-forge | (main, Nov 22 2022, 08:25:29) [Clang 14.0.6 ]"
  },
  "orig_nbformat": 4,
  "vscode": {
   "interpreter": {
    "hash": "65fad4e7e1986bdc3f136a64266882bcd94f05d40895f691efeb91f3570b3df5"
   }
  }
 },
 "nbformat": 4,
 "nbformat_minor": 2
}
