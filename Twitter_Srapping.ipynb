{
  "cells": [
    {
      "cell_type": "markdown",
      "metadata": {
        "id": "view-in-github",
        "colab_type": "text"
      },
      "source": [
        "<a href=\"https://colab.research.google.com/github/podsnigame/Google-Colab/blob/main/Twitter_Srapping.ipynb\" target=\"_parent\"><img src=\"https://colab.research.google.com/assets/colab-badge.svg\" alt=\"Open In Colab\"/></a>"
      ]
    },
    {
      "cell_type": "code",
      "source": [
        "from google.colab import drive\n",
        "\n",
        "# Mount Google Drive\n",
        "drive.mount('/content/drive')"
      ],
      "metadata": {
        "colab": {
          "base_uri": "https://localhost:8080/"
        },
        "id": "n-5bjb4OckW-",
        "outputId": "179680f7-3bbc-4dde-c231-4dce63b77a01"
      },
      "execution_count": null,
      "outputs": [
        {
          "output_type": "stream",
          "name": "stdout",
          "text": [
            "Mounted at /content/drive\n"
          ]
        }
      ]
    },
    {
      "cell_type": "code",
      "execution_count": null,
      "metadata": {
        "colab": {
          "base_uri": "https://localhost:8080/"
        },
        "id": "4RsuQskKDdYU",
        "outputId": "ce430c7c-3078-4c2a-f5ef-b81b96c16bc0"
      },
      "outputs": [
        {
          "output_type": "stream",
          "name": "stdout",
          "text": [
            "Looking in indexes: https://pypi.org/simple, https://us-python.pkg.dev/colab-wheels/public/simple/\n",
            "Collecting snscrape\n",
            "  Downloading snscrape-0.5.0.20230113-py3-none-any.whl (69 kB)\n",
            "\u001b[?25l     \u001b[90m━━━━━━━━━━━━━━━━━━━━━━━━━━━━━━━━━━━━━━━━\u001b[0m \u001b[32m0.0/69.2 KB\u001b[0m \u001b[31m?\u001b[0m eta \u001b[36m-:--:--\u001b[0m\r\u001b[2K     \u001b[90m━━━━━━━━━━━━━━━━━━━━━━━━━━━━━━━━━━━━━━━━\u001b[0m \u001b[32m69.2/69.2 KB\u001b[0m \u001b[31m4.6 MB/s\u001b[0m eta \u001b[36m0:00:00\u001b[0m\n",
            "\u001b[?25hRequirement already satisfied: filelock in /usr/local/lib/python3.8/dist-packages (from snscrape) (3.9.0)\n",
            "Requirement already satisfied: beautifulsoup4 in /usr/local/lib/python3.8/dist-packages (from snscrape) (4.6.3)\n",
            "Requirement already satisfied: lxml in /usr/local/lib/python3.8/dist-packages (from snscrape) (4.9.2)\n",
            "Requirement already satisfied: pytz in /usr/local/lib/python3.8/dist-packages (from snscrape) (2022.7.1)\n",
            "Requirement already satisfied: requests[socks] in /usr/local/lib/python3.8/dist-packages (from snscrape) (2.25.1)\n",
            "Requirement already satisfied: certifi>=2017.4.17 in /usr/local/lib/python3.8/dist-packages (from requests[socks]->snscrape) (2022.12.7)\n",
            "Requirement already satisfied: idna<3,>=2.5 in /usr/local/lib/python3.8/dist-packages (from requests[socks]->snscrape) (2.10)\n",
            "Requirement already satisfied: chardet<5,>=3.0.2 in /usr/local/lib/python3.8/dist-packages (from requests[socks]->snscrape) (4.0.0)\n",
            "Requirement already satisfied: urllib3<1.27,>=1.21.1 in /usr/local/lib/python3.8/dist-packages (from requests[socks]->snscrape) (1.24.3)\n",
            "Requirement already satisfied: PySocks!=1.5.7,>=1.5.6 in /usr/local/lib/python3.8/dist-packages (from requests[socks]->snscrape) (1.7.1)\n",
            "Installing collected packages: snscrape\n",
            "Successfully installed snscrape-0.5.0.20230113\n"
          ]
        }
      ],
      "source": [
        "!pip install snscrape"
      ]
    },
    {
      "cell_type": "code",
      "execution_count": null,
      "metadata": {
        "id": "opvhBtRzdsuC"
      },
      "outputs": [],
      "source": [
        "import snscrape.modules.twitter as sntwitter\n",
        "import pandas as pd"
      ]
    },
    {
      "cell_type": "code",
      "execution_count": null,
      "metadata": {
        "colab": {
          "base_uri": "https://localhost:8080/"
        },
        "id": "DXpmayLDDbXq",
        "outputId": "99db3d65-22c5-4147-d456-6aa2fac61bf1"
      },
      "outputs": [
        {
          "output_type": "stream",
          "name": "stdout",
          "text": [
            "CPU times: user 4 µs, sys: 1 µs, total: 5 µs\n",
            "Wall time: 9.3 µs\n",
            "Start crawling\n"
          ]
        },
        {
          "output_type": "stream",
          "name": "stderr",
          "text": [
            "<ipython-input-3-b29e48c78b7d>:12: FutureWarning: content is deprecated, use rawContent instead\n",
            "  tweets.append([tweet.date, tweet.user.username, tweet.content, tweet.url, tweet.source])\n"
          ]
        },
        {
          "output_type": "stream",
          "name": "stdout",
          "text": [
            "Finished\n",
            "--------\n"
          ]
        }
      ],
      "source": [
        "query = \"gempa\"\n",
        "tweets = []\n",
        "limit = 200\n",
        "\n",
        "%time\n",
        "try:\n",
        "  print(\"Start crawling\")\n",
        "  for tweet in sntwitter.TwitterSearchScraper(query=query).get_items():\n",
        "    if len(tweets) == limit:\n",
        "      break\n",
        "    else:\n",
        "      tweets.append([tweet.date, tweet.user.username, tweet.content, tweet.url, tweet.source])\n",
        "  df = pd.DataFrame(tweets, columns=['date', 'username', 'tweet','url', 'source'])\n",
        "except Exception as e:\n",
        "  print(e)\n",
        "\n",
        "print(\"Finished\")\n",
        "print(\"--------\")"
      ]
    },
    {
      "cell_type": "code",
      "execution_count": null,
      "metadata": {
        "id": "XUmkrK93fzx4",
        "colab": {
          "base_uri": "https://localhost:8080/",
          "height": 3427
        },
        "outputId": "eb9a03f2-94b5-46c6-fe4f-de189e09e3c4"
      },
      "outputs": [
        {
          "output_type": "execute_result",
          "data": {
            "text/plain": [
              "                         date         username  \\\n",
              "0   2023-02-13 06:22:00+00:00      MNCNewsroom   \n",
              "1   2023-02-13 06:21:44+00:00   ilmi_roudhotul   \n",
              "2   2023-02-13 06:21:20+00:00    KantahKabKaur   \n",
              "3   2023-02-13 06:21:07+00:00     VolunteerMVM   \n",
              "4   2023-02-13 06:19:43+00:00  SDGGanjarkaltim   \n",
              "..                        ...              ...   \n",
              "195 2023-02-13 05:09:27+00:00   cianjurekspres   \n",
              "196 2023-02-13 05:09:14+00:00        vurbado87   \n",
              "197 2023-02-13 05:09:13+00:00    birdblackbuck   \n",
              "198 2023-02-13 05:09:13+00:00          leenoux   \n",
              "199 2023-02-13 05:09:10+00:00          PRDepok   \n",
              "\n",
              "                                                 tweet  \\\n",
              "0    WHO: 26 Juta Orang Terdampak Gempa Turki dan S...   \n",
              "1    Korban meninggal gempa Syiria dan Turkey sudah...   \n",
              "2    Segenap keluarga besar Kementerian ATR/BPN men...   \n",
              "3    Terima kasih rakyat Malaysia atas sokongan and...   \n",
              "4    Santri dukung Ganjar memberikan bantuan ke 40 ...   \n",
              "..                                                 ...   \n",
              "195  Dirgahayu Setiadi, 73 tahun, korban gempa Cian...   \n",
              "196  @maoelanaronny_ @Midjan_La_2 tunggu kena gempa...   \n",
              "197  @mks_fess Sini kee soroako nder. Nda pernah ba...   \n",
              "198  Date: 13 Feb 2023, Time: 11:46:29 WIB, Mag: 3....   \n",
              "199  Viral Penggambaran Kondisi Gempa Turki Karya I...   \n",
              "\n",
              "                                                   url  \\\n",
              "0    https://twitter.com/MNCNewsroom/status/1625017...   \n",
              "1    https://twitter.com/ilmi_roudhotul/status/1625...   \n",
              "2    https://twitter.com/KantahKabKaur/status/16250...   \n",
              "3    https://twitter.com/VolunteerMVM/status/162501...   \n",
              "4    https://twitter.com/SDGGanjarkaltim/status/162...   \n",
              "..                                                 ...   \n",
              "195  https://twitter.com/cianjurekspres/status/1624...   \n",
              "196  https://twitter.com/vurbado87/status/162499911...   \n",
              "197  https://twitter.com/birdblackbuck/status/16249...   \n",
              "198  https://twitter.com/leenoux/status/16249991082...   \n",
              "199  https://twitter.com/PRDepok/status/16249990992...   \n",
              "\n",
              "                                                source  \n",
              "0    <a href=\"https://about.twitter.com/products/tw...  \n",
              "1    <a href=\"http://twitter.com/download/android\" ...  \n",
              "2    <a href=\"https://mobile.twitter.com\" rel=\"nofo...  \n",
              "3    <a href=\"https://mobile.twitter.com\" rel=\"nofo...  \n",
              "4    <a href=\"http://twitter.com/download/android\" ...  \n",
              "..                                                 ...  \n",
              "195  <a href=\"https://mobile.twitter.com\" rel=\"nofo...  \n",
              "196  <a href=\"https://mobile.twitter.com\" rel=\"nofo...  \n",
              "197  <a href=\"http://twitter.com/download/android\" ...  \n",
              "198  <a href=\"https://kutukupret.com\" rel=\"nofollow...  \n",
              "199  <a href=\"https://dlvrit.com/\" rel=\"nofollow\">d...  \n",
              "\n",
              "[200 rows x 5 columns]"
            ],
            "text/html": [
              "\n",
              "  <div id=\"df-94ec8d4d-59e7-4df7-bc4e-c62d84270732\">\n",
              "    <div class=\"colab-df-container\">\n",
              "      <div>\n",
              "<style scoped>\n",
              "    .dataframe tbody tr th:only-of-type {\n",
              "        vertical-align: middle;\n",
              "    }\n",
              "\n",
              "    .dataframe tbody tr th {\n",
              "        vertical-align: top;\n",
              "    }\n",
              "\n",
              "    .dataframe thead th {\n",
              "        text-align: right;\n",
              "    }\n",
              "</style>\n",
              "<table border=\"1\" class=\"dataframe\">\n",
              "  <thead>\n",
              "    <tr style=\"text-align: right;\">\n",
              "      <th></th>\n",
              "      <th>date</th>\n",
              "      <th>username</th>\n",
              "      <th>tweet</th>\n",
              "      <th>url</th>\n",
              "      <th>source</th>\n",
              "    </tr>\n",
              "  </thead>\n",
              "  <tbody>\n",
              "    <tr>\n",
              "      <th>0</th>\n",
              "      <td>2023-02-13 06:22:00+00:00</td>\n",
              "      <td>MNCNewsroom</td>\n",
              "      <td>WHO: 26 Juta Orang Terdampak Gempa Turki dan S...</td>\n",
              "      <td>https://twitter.com/MNCNewsroom/status/1625017...</td>\n",
              "      <td>&lt;a href=\"https://about.twitter.com/products/tw...</td>\n",
              "    </tr>\n",
              "    <tr>\n",
              "      <th>1</th>\n",
              "      <td>2023-02-13 06:21:44+00:00</td>\n",
              "      <td>ilmi_roudhotul</td>\n",
              "      <td>Korban meninggal gempa Syiria dan Turkey sudah...</td>\n",
              "      <td>https://twitter.com/ilmi_roudhotul/status/1625...</td>\n",
              "      <td>&lt;a href=\"http://twitter.com/download/android\" ...</td>\n",
              "    </tr>\n",
              "    <tr>\n",
              "      <th>2</th>\n",
              "      <td>2023-02-13 06:21:20+00:00</td>\n",
              "      <td>KantahKabKaur</td>\n",
              "      <td>Segenap keluarga besar Kementerian ATR/BPN men...</td>\n",
              "      <td>https://twitter.com/KantahKabKaur/status/16250...</td>\n",
              "      <td>&lt;a href=\"https://mobile.twitter.com\" rel=\"nofo...</td>\n",
              "    </tr>\n",
              "    <tr>\n",
              "      <th>3</th>\n",
              "      <td>2023-02-13 06:21:07+00:00</td>\n",
              "      <td>VolunteerMVM</td>\n",
              "      <td>Terima kasih rakyat Malaysia atas sokongan and...</td>\n",
              "      <td>https://twitter.com/VolunteerMVM/status/162501...</td>\n",
              "      <td>&lt;a href=\"https://mobile.twitter.com\" rel=\"nofo...</td>\n",
              "    </tr>\n",
              "    <tr>\n",
              "      <th>4</th>\n",
              "      <td>2023-02-13 06:19:43+00:00</td>\n",
              "      <td>SDGGanjarkaltim</td>\n",
              "      <td>Santri dukung Ganjar memberikan bantuan ke 40 ...</td>\n",
              "      <td>https://twitter.com/SDGGanjarkaltim/status/162...</td>\n",
              "      <td>&lt;a href=\"http://twitter.com/download/android\" ...</td>\n",
              "    </tr>\n",
              "    <tr>\n",
              "      <th>...</th>\n",
              "      <td>...</td>\n",
              "      <td>...</td>\n",
              "      <td>...</td>\n",
              "      <td>...</td>\n",
              "      <td>...</td>\n",
              "    </tr>\n",
              "    <tr>\n",
              "      <th>195</th>\n",
              "      <td>2023-02-13 05:09:27+00:00</td>\n",
              "      <td>cianjurekspres</td>\n",
              "      <td>Dirgahayu Setiadi, 73 tahun, korban gempa Cian...</td>\n",
              "      <td>https://twitter.com/cianjurekspres/status/1624...</td>\n",
              "      <td>&lt;a href=\"https://mobile.twitter.com\" rel=\"nofo...</td>\n",
              "    </tr>\n",
              "    <tr>\n",
              "      <th>196</th>\n",
              "      <td>2023-02-13 05:09:14+00:00</td>\n",
              "      <td>vurbado87</td>\n",
              "      <td>@maoelanaronny_ @Midjan_La_2 tunggu kena gempa...</td>\n",
              "      <td>https://twitter.com/vurbado87/status/162499911...</td>\n",
              "      <td>&lt;a href=\"https://mobile.twitter.com\" rel=\"nofo...</td>\n",
              "    </tr>\n",
              "    <tr>\n",
              "      <th>197</th>\n",
              "      <td>2023-02-13 05:09:13+00:00</td>\n",
              "      <td>birdblackbuck</td>\n",
              "      <td>@mks_fess Sini kee soroako nder. Nda pernah ba...</td>\n",
              "      <td>https://twitter.com/birdblackbuck/status/16249...</td>\n",
              "      <td>&lt;a href=\"http://twitter.com/download/android\" ...</td>\n",
              "    </tr>\n",
              "    <tr>\n",
              "      <th>198</th>\n",
              "      <td>2023-02-13 05:09:13+00:00</td>\n",
              "      <td>leenoux</td>\n",
              "      <td>Date: 13 Feb 2023, Time: 11:46:29 WIB, Mag: 3....</td>\n",
              "      <td>https://twitter.com/leenoux/status/16249991082...</td>\n",
              "      <td>&lt;a href=\"https://kutukupret.com\" rel=\"nofollow...</td>\n",
              "    </tr>\n",
              "    <tr>\n",
              "      <th>199</th>\n",
              "      <td>2023-02-13 05:09:10+00:00</td>\n",
              "      <td>PRDepok</td>\n",
              "      <td>Viral Penggambaran Kondisi Gempa Turki Karya I...</td>\n",
              "      <td>https://twitter.com/PRDepok/status/16249990992...</td>\n",
              "      <td>&lt;a href=\"https://dlvrit.com/\" rel=\"nofollow\"&gt;d...</td>\n",
              "    </tr>\n",
              "  </tbody>\n",
              "</table>\n",
              "<p>200 rows × 5 columns</p>\n",
              "</div>\n",
              "      <button class=\"colab-df-convert\" onclick=\"convertToInteractive('df-94ec8d4d-59e7-4df7-bc4e-c62d84270732')\"\n",
              "              title=\"Convert this dataframe to an interactive table.\"\n",
              "              style=\"display:none;\">\n",
              "        \n",
              "  <svg xmlns=\"http://www.w3.org/2000/svg\" height=\"24px\"viewBox=\"0 0 24 24\"\n",
              "       width=\"24px\">\n",
              "    <path d=\"M0 0h24v24H0V0z\" fill=\"none\"/>\n",
              "    <path d=\"M18.56 5.44l.94 2.06.94-2.06 2.06-.94-2.06-.94-.94-2.06-.94 2.06-2.06.94zm-11 1L8.5 8.5l.94-2.06 2.06-.94-2.06-.94L8.5 2.5l-.94 2.06-2.06.94zm10 10l.94 2.06.94-2.06 2.06-.94-2.06-.94-.94-2.06-.94 2.06-2.06.94z\"/><path d=\"M17.41 7.96l-1.37-1.37c-.4-.4-.92-.59-1.43-.59-.52 0-1.04.2-1.43.59L10.3 9.45l-7.72 7.72c-.78.78-.78 2.05 0 2.83L4 21.41c.39.39.9.59 1.41.59.51 0 1.02-.2 1.41-.59l7.78-7.78 2.81-2.81c.8-.78.8-2.07 0-2.86zM5.41 20L4 18.59l7.72-7.72 1.47 1.35L5.41 20z\"/>\n",
              "  </svg>\n",
              "      </button>\n",
              "      \n",
              "  <style>\n",
              "    .colab-df-container {\n",
              "      display:flex;\n",
              "      flex-wrap:wrap;\n",
              "      gap: 12px;\n",
              "    }\n",
              "\n",
              "    .colab-df-convert {\n",
              "      background-color: #E8F0FE;\n",
              "      border: none;\n",
              "      border-radius: 50%;\n",
              "      cursor: pointer;\n",
              "      display: none;\n",
              "      fill: #1967D2;\n",
              "      height: 32px;\n",
              "      padding: 0 0 0 0;\n",
              "      width: 32px;\n",
              "    }\n",
              "\n",
              "    .colab-df-convert:hover {\n",
              "      background-color: #E2EBFA;\n",
              "      box-shadow: 0px 1px 2px rgba(60, 64, 67, 0.3), 0px 1px 3px 1px rgba(60, 64, 67, 0.15);\n",
              "      fill: #174EA6;\n",
              "    }\n",
              "\n",
              "    [theme=dark] .colab-df-convert {\n",
              "      background-color: #3B4455;\n",
              "      fill: #D2E3FC;\n",
              "    }\n",
              "\n",
              "    [theme=dark] .colab-df-convert:hover {\n",
              "      background-color: #434B5C;\n",
              "      box-shadow: 0px 1px 3px 1px rgba(0, 0, 0, 0.15);\n",
              "      filter: drop-shadow(0px 1px 2px rgba(0, 0, 0, 0.3));\n",
              "      fill: #FFFFFF;\n",
              "    }\n",
              "  </style>\n",
              "\n",
              "      <script>\n",
              "        const buttonEl =\n",
              "          document.querySelector('#df-94ec8d4d-59e7-4df7-bc4e-c62d84270732 button.colab-df-convert');\n",
              "        buttonEl.style.display =\n",
              "          google.colab.kernel.accessAllowed ? 'block' : 'none';\n",
              "\n",
              "        async function convertToInteractive(key) {\n",
              "          const element = document.querySelector('#df-94ec8d4d-59e7-4df7-bc4e-c62d84270732');\n",
              "          const dataTable =\n",
              "            await google.colab.kernel.invokeFunction('convertToInteractive',\n",
              "                                                     [key], {});\n",
              "          if (!dataTable) return;\n",
              "\n",
              "          const docLinkHtml = 'Like what you see? Visit the ' +\n",
              "            '<a target=\"_blank\" href=https://colab.research.google.com/notebooks/data_table.ipynb>data table notebook</a>'\n",
              "            + ' to learn more about interactive tables.';\n",
              "          element.innerHTML = '';\n",
              "          dataTable['output_type'] = 'display_data';\n",
              "          await google.colab.output.renderOutput(dataTable, element);\n",
              "          const docLink = document.createElement('div');\n",
              "          docLink.innerHTML = docLinkHtml;\n",
              "          element.appendChild(docLink);\n",
              "        }\n",
              "      </script>\n",
              "    </div>\n",
              "  </div>\n",
              "  "
            ]
          },
          "metadata": {},
          "execution_count": 4
        }
      ],
      "source": [
        "df"
      ]
    },
    {
      "cell_type": "code",
      "execution_count": null,
      "metadata": {
        "id": "xBYVa9eNDzpT"
      },
      "outputs": [],
      "source": [
        "df.to_csv('gempa.csv', index=False)"
      ]
    },
    {
      "cell_type": "code",
      "source": [
        "# Export dataframe to Google Drive\n",
        "df.to_csv('/content/drive/My Drive/FILE SHARING/scraping twitter/gempa.csv', index=False)"
      ],
      "metadata": {
        "id": "lHaGMoeAcvvR"
      },
      "execution_count": null,
      "outputs": []
    },
    {
      "cell_type": "code",
      "source": [],
      "metadata": {
        "id": "lha5jBsYdO9X"
      },
      "execution_count": null,
      "outputs": []
    }
  ],
  "metadata": {
    "colab": {
      "provenance": [],
      "include_colab_link": true
    },
    "kernelspec": {
      "display_name": "Python 3",
      "name": "python3"
    },
    "language_info": {
      "name": "python"
    }
  },
  "nbformat": 4,
  "nbformat_minor": 0
}